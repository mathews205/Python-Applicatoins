{
 "cells": [
  {
   "cell_type": "markdown",
   "id": "3e730d47",
   "metadata": {},
   "source": [
    "### If item 1 is selected, it should prompt for a word and then accept its meaning. This pair of word and its meaning should be stored in a file called ‘words.txt’. When item 2 is selected, it should prompt for a word, search that word in the file ‘words.txt’ and return the meaning if it is found. If the meaning is not found, it should display an appropriate message. Similarly, when choice 3 is entered, it should accept a word and update its meaning. In all the above three cases, the prompt should return to the main menu. The words and their meanings should be stored as a dictionary in words.txt, using the concept of serialization. If choice 4 is selected, a graceful exit should be performed."
   ]
  },
  {
   "cell_type": "markdown",
   "id": "448155b2",
   "metadata": {},
   "source": [
    "# dictionary app"
   ]
  },
  {
   "cell_type": "code",
   "execution_count": null,
   "id": "f9137e11",
   "metadata": {},
   "outputs": [
    {
     "name": "stdout",
     "output_type": "stream",
     "text": [
      "Welcome to dictionary\n",
      "\n",
      "Main Menu\n",
      "\n",
      "1. Add a new word\n",
      "2. Find the meaning\n",
      "3. Update a word\n",
      "4. Exit\n",
      "\n",
      "**************************************************\n",
      "please select a choice : 1\n",
      "Adding a new word\n",
      "Enter a new word: cat\n",
      "Enter the meanning of entered word: poocha\n",
      "**************************************************\n",
      "please select a choice : 2\n",
      "Search for existing word\n",
      "Enter word to search: cat\n",
      "Meaning of cat is  poocha\n",
      "**************************************************\n"
     ]
    }
   ],
   "source": [
    "import json\n",
    "print('''Welcome to dictionary\n",
    "\n",
    "Main Menu\n",
    "\n",
    "1. Add a new word\n",
    "2. Find the meaning\n",
    "3. Update a word\n",
    "4. Exit\n",
    "''')\n",
    "\n",
    "f=open('word.txt','w')\n",
    "dic={}\n",
    "json.dump(dic,f)\n",
    "f.close()\n",
    "while True:\n",
    "    print('*'*50)\n",
    "    n= int(input('please select a choice : '))\n",
    "    if n==1:\n",
    "        print('Adding a new word')\n",
    "        f = open('word.txt','w')\n",
    "        word = input('Enter a new word: ')\n",
    "        meaning = input('Enter the meanning of entered word: ')\n",
    "        dic[word]=meaning\n",
    "        json.dump(dic,f)\n",
    "        f.close()\n",
    "    elif n==2:\n",
    "        print('Search for existing word')\n",
    "        f = open('word.txt','r')\n",
    "        word = input('Enter word to search: ')\n",
    "        search= json.load(f)\n",
    "        if word in dic:\n",
    "            print(f'Meaning of {word} is ',dic[word])\n",
    "        else:\n",
    "            print('Word is not entered in dictionary')\n",
    "        f.close()\n",
    "    elif n==3:\n",
    "        print('Updating existing word')\n",
    "        f= open('word.txt','w')\n",
    "        word= input('Enter a word to update: ')\n",
    "        meaning=input('Enter the updated meaning :')\n",
    "        dic[word]=meaning\n",
    "        json.dump(dic,f)\n",
    "        f.close()\n",
    "    elif n==4:\n",
    "        print('Exiting from dictionary')\n",
    "        break\n",
    "    else:\n",
    "        print('''\n",
    "        \n",
    "pLease select from  below choices\n",
    "\n",
    "Main Menu\n",
    "1. Add a new word\n",
    "2. Find the meaning\n",
    "3. Update a word\n",
    "4. Exit\n",
    "''')"
   ]
  },
  {
   "cell_type": "code",
   "execution_count": null,
   "id": "d591a4b9",
   "metadata": {},
   "outputs": [],
   "source": []
  },
  {
   "cell_type": "code",
   "execution_count": null,
   "id": "d423f83d",
   "metadata": {},
   "outputs": [],
   "source": []
  }
 ],
 "metadata": {
  "kernelspec": {
   "display_name": "Python 3 (ipykernel)",
   "language": "python",
   "name": "python3"
  },
  "language_info": {
   "codemirror_mode": {
    "name": "ipython",
    "version": 3
   },
   "file_extension": ".py",
   "mimetype": "text/x-python",
   "name": "python",
   "nbconvert_exporter": "python",
   "pygments_lexer": "ipython3",
   "version": "3.9.12"
  }
 },
 "nbformat": 4,
 "nbformat_minor": 5
}
